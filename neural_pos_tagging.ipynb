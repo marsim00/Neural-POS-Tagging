{
 "cells": [
  {
   "cell_type": "markdown",
   "id": "53f8435e-bd9c-439f-985d-b8fdcda00edc",
   "metadata": {},
   "source": [
    "# Neural POS Tagging"
   ]
  },
  {
   "cell_type": "markdown",
   "id": "e76f34e3-bc79-474f-97b8-d5f6db828a28",
   "metadata": {},
   "source": [
    "## Importing packages and files"
   ]
  },
  {
   "cell_type": "code",
   "execution_count": 3,
   "id": "506e4058-dced-44af-b233-ad32d2fba37a",
   "metadata": {},
   "outputs": [],
   "source": [
    "import numpy\n",
    "import torch.nn as nn\n",
    "import torch.optim\n",
    "\n",
    "import d"
   ]
  },
  {
   "cell_type": "markdown",
   "id": "7600ce23-358c-4fd1-beeb-e9e0364692aa",
   "metadata": {},
   "source": [
    "## Loading the training and test corpus"
   ]
  },
  {
   "cell_type": "markdown",
   "id": "7f49296b-6b78-4a22-afb4-645a439b4e85",
   "metadata": {},
   "source": [
    "Loading the data:"
   ]
  },
  {
   "cell_type": "code",
   "execution_count": 4,
   "id": "76e56272-46f2-47ee-9ab5-5ec004797ba2",
   "metadata": {},
   "outputs": [],
   "source": [
    "loaded_data = d.load('de_gsd-ud-train.conllu', 'de_gsd-ud-dev.conllu', 'de_gsd-ud-test.conllu')"
   ]
  },
  {
   "cell_type": "markdown",
   "id": "f6d71541-34ad-4e99-9226-189a6dca9aaa",
   "metadata": {},
   "source": [
    "Writing dataloaders to variables:"
   ]
  },
  {
   "cell_type": "code",
   "execution_count": 5,
   "id": "999d117e-a20b-4dd0-88e2-13bfcdb55824",
   "metadata": {},
   "outputs": [],
   "source": [
    "train_dataloader = loaded_data[0]\n",
    "dev_dataloader = loaded_data[1]\n",
    "test_dataloader = loaded_data[2]\n",
    "vocabulary = loaded_data[3]\n",
    "tagset = loaded_data[4]\n",
    "pretrained_embeddings = loaded_data[5]"
   ]
  },
  {
   "cell_type": "markdown",
   "id": "021eaa21-15e5-451c-bfeb-d45c8180ff22",
   "metadata": {},
   "source": [
    "A function that turns a dataloader into a dictionary, where index is the key and tensors with sentences indices and gold tags indices are values. Consequently, the function returns a tuple of two dictionaries: one with sentences, the other with golden tags"
   ]
  },
  {
   "cell_type": "code",
   "execution_count": 6,
   "id": "c4e3388b-5515-48ab-a034-4c05dd83a4d7",
   "metadata": {},
   "outputs": [],
   "source": [
    "def dl_to_dict(dataloader):\n",
    "    sentences = {}\n",
    "    golden = {}\n",
    "\n",
    "    for (i, batch) in enumerate(dataloader):\n",
    "        sentences[i] = list(batch)[0][0]\n",
    "        golden[i] = list(batch)[0][1]\n",
    "\n",
    "    return sentences, golden"
   ]
  },
  {
   "cell_type": "markdown",
   "id": "33800e15-6828-4fb9-88fa-dfb7634c999c",
   "metadata": {},
   "source": [
    "Writing dictionaries with sentences and golden tags for dataloaders with training, development and test sets:"
   ]
  },
  {
   "cell_type": "code",
   "execution_count": 7,
   "id": "ee10ffb6-84c6-4c47-b18f-9f7a2358f7ff",
   "metadata": {},
   "outputs": [],
   "source": [
    "train_sentences = dl_to_dict(train_dataloader)[0]\n",
    "train_gtags = dl_to_dict(train_dataloader)[1]\n",
    "\n",
    "dev_sentences = dl_to_dict(dev_dataloader)[0]\n",
    "dev_gtags = dl_to_dict(dev_dataloader)[1]\n",
    "\n",
    "test_sentences = dl_to_dict(test_dataloader)[0]\n",
    "test_gtags = dl_to_dict(test_dataloader)[1]"
   ]
  },
  {
   "cell_type": "markdown",
   "id": "ce5e52ee-73c5-411c-8b68-3ed1de34b9b4",
   "metadata": {},
   "source": [
    "**The original sentence and POS tags for the first instance in the training set:**"
   ]
  },
  {
   "cell_type": "code",
   "execution_count": 8,
   "id": "653e911e-8b41-414e-88d9-2f488d6da417",
   "metadata": {},
   "outputs": [
    {
     "name": "stdout",
     "output_type": "stream",
     "text": [
      "Sentence:  ['sehr', 'gute', 'beratung', ',', 'schnelle', 'behebung', 'der', 'probleme', ',', 'so', 'stelle', 'ich', 'mir', 'kundenservice', 'vor', '</s>']\n",
      "Golden tags:  ['ADV', 'ADJ', 'NOUN', 'PUNCT', 'ADJ', 'NOUN', 'DET', 'NOUN', 'PUNCT', 'ADV', 'VERB', 'PRON', 'PRON', 'NOUN', 'ADP', 'PUNCT']\n"
     ]
    }
   ],
   "source": [
    "print(\"Sentence: \", vocabulary.lookup_tokens(train_sentences[0].tolist()))\n",
    "print(\"Golden tags: \", tagset.lookup_tokens(train_gtags[0].tolist()))"
   ]
  },
  {
   "cell_type": "markdown",
   "id": "ceefb57f-86ff-42a4-b1e2-6dcb8191823f",
   "metadata": {},
   "source": [
    "## Functions for working with the neural model"
   ]
  },
  {
   "cell_type": "markdown",
   "id": "b82330c3-2510-448c-8cb4-25cd19722d76",
   "metadata": {},
   "source": [
    "### Evaluation function"
   ]
  },
  {
   "cell_type": "code",
   "execution_count": 9,
   "id": "f2899842-dc6f-46bc-8141-a347d0afa300",
   "metadata": {},
   "outputs": [],
   "source": [
    "def evaluation(model, input_dict, target_dict, key):\n",
    "    #Parameters:\n",
    "            # - model: LSTM model\n",
    "            # - input_dict: the dictionary with tensors of sentences\n",
    "            # - tagset_dict: the dictionary with tensors of golden tags\n",
    "            # - key: index of a sentence (which is a key in dictionaries)            \n",
    "\n",
    "    model.eval()\n",
    "    pos_scores = model(input_dict[key]) # a variable with POS tags scores for each word in a sentence (shape: sentence length x tagset size)\n",
    "    predicted_indices = list(numpy.argmax(score) for score in pos_scores.tolist())#a list of POS tags with a maximum score for each word\n",
    "    comparison = list(numpy.array(predicted_indices) == numpy.array(target_dict[key])) # a list of booleans (True if a predicted POS tag corresponds to a golden POS tag)\n",
    "    accuracy = sum(comparison) / len(predicted_indices) #mean accuracy for the sentence\n",
    "\n",
    "    return accuracy"
   ]
  },
  {
   "cell_type": "markdown",
   "id": "96f1bb28-ff60-4945-ad18-3ab87b253605",
   "metadata": {},
   "source": [
    "### Training function"
   ]
  },
  {
   "cell_type": "code",
   "execution_count": 10,
   "id": "0f5e2d8e-8453-4c21-8b32-40bbda98c602",
   "metadata": {},
   "outputs": [],
   "source": [
    "def training(model, input_dict, target_dict, dev_input_dict, dev_target_dict, epochs_num, optimizer, params):\n",
    "    #Parameters:\n",
    "            # - model: LSTM model\n",
    "            # - input_dict: the dictionary with tensors of sentences\n",
    "            # - target_dict: the dictionary with tensors of golden tags\n",
    "            # - dev_input_dict: the dictionary with tensors of sentences in the development set\n",
    "            # - dev_target_dict: the dictionary with tensors of golden tags in the development set\n",
    "            # - epochs_num: number of epochs\n",
    "            # - optimizer: optimizer\n",
    "            # - params: a dictionary with hyperparameters \n",
    "\n",
    "    keys = list(input_dict.keys()) #a variable with keys in the input dictionary    \n",
    "    \n",
    "    for epoch in range(epochs_num):  \n",
    "        #lists for loss and accuracy values. After each epoch contain values for each sentence for the current epoch\n",
    "        loss_list = []\n",
    "        accuracy_list = []\n",
    "        dev_accuracy_list = []\n",
    "\n",
    "        for i in keys:\n",
    "            model.zero_grad() #zero previous gradients for the proper backpropagation\n",
    "            pos_scores = model(input_dict[i]) # a variable with POS tags scores for each word in a sentence (shape: sentence length x tagset size)\n",
    "\n",
    "            accuracy = evaluation(model, input_dict, target_dict, i) #mean accuracy for the sentence\n",
    "            accuracy_list.append(accuracy) #add mean accuracy to an accuracy list            \n",
    "\n",
    "            loss = nn.functional.cross_entropy(pos_scores, target_dict[i])\n",
    "            loss_list.append(loss) #add loss of the current sentence to the loss list\n",
    "            loss.backward() #backpropagation\n",
    "\n",
    "            optimizer.step() #update parameters\n",
    "        \n",
    "        for dev_i in list(dev_input_dict.keys()):\n",
    "            dev_accuracy = evaluation(model, dev_input_dict, dev_target_dict, dev_i) #mean accuracy for the sentence in development set\n",
    "            dev_accuracy_list.append(dev_accuracy) #add mean accuracy to an accuracy list in development set\n",
    "            \n",
    "        mean_loss = sum(loss_list)/len(loss_list) #mean loss for the current epoch: sum of the loss of all sentences divided by the number of sentences        \n",
    "        \n",
    "        #print mean loss and mean accuracy for the epoch.\n",
    "            #mean_loss is a tensor, so .item() gets its value\n",
    "            #mean accuracy per epoch is a sum of mean accuracies of each sentence divided by the number of sentences (same for the accuracy of the development set)\n",
    "        print(\"Epoch \" + str(epoch) + \" loss: \" + str(mean_loss.item()) + '\\tmean accuracy: ' + str(sum(accuracy_list) / len(accuracy_list))+'\\tmean dev set accuracy: '+ str(sum(dev_accuracy_list) / len(dev_accuracy_list)))\n"
   ]
  },
  {
   "cell_type": "markdown",
   "id": "ccd1b950-0736-44f4-8532-8569505d18c1",
   "metadata": {},
   "source": [
    "## Defining a neural model"
   ]
  },
  {
   "cell_type": "markdown",
   "id": "195be134-6302-4043-934a-4368fff82435",
   "metadata": {},
   "source": [
    "### Embedding layer"
   ]
  },
  {
   "cell_type": "markdown",
   "id": "0aa7415a-51e9-41a7-a359-6ed6c7e479b9",
   "metadata": {
    "tags": []
   },
   "source": [
    "Creating an embedding layer of a shape \"number of pretrained embeddings\" x \"dimension of fasttext word embeddings (300)\" :"
   ]
  },
  {
   "cell_type": "code",
   "execution_count": 11,
   "id": "d92f4530-bf06-4d49-92f1-f50099245d84",
   "metadata": {},
   "outputs": [],
   "source": [
    "embedding = nn.Embedding(len(pretrained_embeddings), 300)\n",
    "embedding.weight.data = pretrained_embeddings\n",
    "embedding.weight.requires_grad = False"
   ]
  },
  {
   "cell_type": "markdown",
   "id": "b360bd8a-f4c4-4141-b79a-04f0b17dc358",
   "metadata": {},
   "source": [
    "### LSTM model class"
   ]
  },
  {
   "cell_type": "code",
   "execution_count": 12,
   "id": "ca17066d-b2d1-4cd2-ae9e-b4590f4e9967",
   "metadata": {
    "scrolled": true,
    "tags": []
   },
   "outputs": [],
   "source": [
    "class LSTM_Model(nn.Module):  \n",
    "       \n",
    "    def __init__(self, embedding_dim, hidden_dim, tagset_size, num_layers, bidirect, dropout, embeds):\n",
    "         #Initialization\n",
    "        #Parameters:\n",
    "            # - embedding_dim: the input dimension which corresponds to the dimensionality of the embedding layer\n",
    "            # - hidden_dim: dimensions of a hidden layer\n",
    "            # - tagset_size: number of possible tags\n",
    "            # - num_layers: number of LSTM's stacked onto each other\n",
    "            # - bidirect: if True - LSTM will be bidirectional and the number of inputs to the linear layer will be doubled\n",
    "            # - dropout: the percentage of outputs to drop. Used only if the num_layers >= 2 (else equals 0)\n",
    "            # - embeds: the embedding layer\n",
    "    \n",
    "        super().__init__()\n",
    "        self.hidden_dim = hidden_dim\n",
    "        self.embeds = embeds\n",
    "        \n",
    "        self.lstm = nn.LSTM(input_size=embedding_dim, hidden_size=hidden_dim, num_layers=num_layers, bidirectional=bidirect, dropout=dropout if num_layers>=2 else 0)\n",
    "        \n",
    "        #linear layer input size equals the dimensionality of the hidden layer (or doubled dimensionality if LSTM is bidirectional; the number of outputs equals tagset size)\n",
    "        self.linear = nn.Linear(in_features=hidden_dim*2 if bidirect else hidden_dim, out_features=tagset_size) \n",
    "        self.dropout = nn.Dropout(self.lstm.dropout)\n",
    "\n",
    "    def forward(self, sentence):\n",
    "        #sentence is a tensor with sentence indices\n",
    "        \n",
    "        embedded = self.dropout(self.embeds(sentence)) #each sentence goes through the embedding matrix and some outputs are dropped if the dropout>0\n",
    "        lstm_output, _ = self.lstm(embedded.view(len(sentence), 1, -1)) #the embedding of each sentence of a shape \"sentence length x 1 (batch size) x embedding dimensions (300) is passed to the LSTM (-1 means that the program calculates the third dimension itself based on first two, but in our case it will always be the dimension of the embedding)\n",
    "        linear_output = self.linear(self.dropout(lstm_output.view(len(sentence), -1))) #the LSTM output of a sentence (tensor of a shape \"sentence length x size of the linear layer input\") is passed to the linear layer.\n",
    "\n",
    "        return linear_output"
   ]
  },
  {
   "cell_type": "markdown",
   "id": "0c1fcdcc-5ed6-4ad3-b361-e43219f12562",
   "metadata": {},
   "source": [
    "Defining hyperparameters in a dictionary:"
   ]
  },
  {
   "cell_type": "code",
   "execution_count": 13,
   "id": "e3aa57ca-756a-49d8-8315-ee51a3d2a6a2",
   "metadata": {},
   "outputs": [],
   "source": [
    "hyper_params = {\n",
    "    \"learning_rate\": 0.001,\n",
    "    \"hidden_layer_size\": 40,\n",
    "    \"number of epochs\": 11,\n",
    "    \"number of layers\": 1,\n",
    "    \"bidirectional\": True,\n",
    "    \"dropout\": 0\n",
    "}"
   ]
  },
  {
   "cell_type": "markdown",
   "id": "0e2d57e3-b4b3-4f33-b8c5-a5622c4dcc9a",
   "metadata": {},
   "source": [
    "Creating a model:"
   ]
  },
  {
   "cell_type": "code",
   "execution_count": 14,
   "id": "4aba6edc-ce8b-4044-8dd6-dcfd203f9e3d",
   "metadata": {},
   "outputs": [],
   "source": [
    "lstm_model = LSTM_Model(embedding_dim=embedding.embedding_dim, hidden_dim=hyper_params['hidden_layer_size'], tagset_size=len(tagset), num_layers=hyper_params['number of layers'],bidirect=hyper_params['bidirectional'], dropout=hyper_params['dropout'], embeds=embedding)"
   ]
  },
  {
   "cell_type": "markdown",
   "id": "274cc203-ddf4-4961-b494-0a73fa05493c",
   "metadata": {},
   "source": [
    "Creating an optimizer:"
   ]
  },
  {
   "cell_type": "code",
   "execution_count": 15,
   "id": "1a7c3b90-a97b-4471-b9d0-8186b5bc842e",
   "metadata": {},
   "outputs": [],
   "source": [
    "Adam_optimizer = torch.optim.Adam(lstm_model.parameters(), lr = hyper_params['learning_rate'])"
   ]
  },
  {
   "cell_type": "markdown",
   "id": "efa9dbe1-c4fc-4e9b-85cf-3547eb764a95",
   "metadata": {},
   "source": [
    "## Training a neural model"
   ]
  },
  {
   "cell_type": "markdown",
   "id": "76ffc612-222d-4428-8068-4c251bf48a22",
   "metadata": {},
   "source": [
    "### Training set with learning curves"
   ]
  },
  {
   "cell_type": "code",
   "execution_count": 16,
   "id": "1dfcb65b-4af0-460e-aba8-8b82f62d8ed7",
   "metadata": {},
   "outputs": [
    {
     "name": "stdout",
     "output_type": "stream",
     "text": [
      "Epoch 0 loss: 0.269575297832489\tmean accuracy: 0.9205756567084662\tmean dev set accuracy: 0.9090905850517129\n",
      "Epoch 1 loss: 0.14392763376235962\tmean accuracy: 0.9533248300446219\tmean dev set accuracy: 0.9125671420822176\n",
      "Epoch 2 loss: 0.11284291744232178\tmean accuracy: 0.9636832603938352\tmean dev set accuracy: 0.9148029606259206\n",
      "Epoch 3 loss: 0.09129871428012848\tmean accuracy: 0.9712610985363347\tmean dev set accuracy: 0.9136819925929881\n",
      "Epoch 4 loss: 0.07437170296907425\tmean accuracy: 0.9774360004761785\tmean dev set accuracy: 0.9135948029562889\n",
      "Epoch 5 loss: 0.060126446187496185\tmean accuracy: 0.9822456262949935\tmean dev set accuracy: 0.9128887142281898\n",
      "Epoch 6 loss: 0.0485248826444149\tmean accuracy: 0.9860187797159323\tmean dev set accuracy: 0.9113208227950015\n",
      "Epoch 7 loss: 0.03948327153921127\tmean accuracy: 0.9885798182104522\tmean dev set accuracy: 0.9110329364095323\n",
      "Epoch 8 loss: 0.03330867737531662\tmean accuracy: 0.990365369920187\tmean dev set accuracy: 0.9123179984964583\n",
      "Epoch 9 loss: 0.029207725077867508\tmean accuracy: 0.9912379340878672\tmean dev set accuracy: 0.9131382502519965\n",
      "Epoch 10 loss: 0.026186883449554443\tmean accuracy: 0.9918780949211524\tmean dev set accuracy: 0.9091682140441083\n"
     ]
    }
   ],
   "source": [
    "#The following line trains the model and prints mean loss, train accuracy and the accuracy of the development set for each epoch:\n",
    "training(model=lstm_model, input_dict=train_sentences, target_dict=train_gtags, dev_input_dict = dev_sentences, dev_target_dict = dev_gtags, epochs_num=hyper_params['number of epochs'], optimizer=Adam_optimizer, params=hyper_params)"
   ]
  },
  {
   "cell_type": "markdown",
   "id": "79236dd4-1732-4cb6-9ee8-80ce6b28400f",
   "metadata": {},
   "source": [
    "11 training epochs took 57 minutes."
   ]
  },
  {
   "cell_type": "code",
   "execution_count": 19,
   "id": "52b791ae-984d-4697-9d8a-89c25d44c8cd",
   "metadata": {},
   "outputs": [
    {
     "data": {
      "image/png": "[encoded data removed]",
      "text/plain": [
       "<IPython.core.display.Image object>"
      ]
     },
     "execution_count": 19,
     "metadata": {},
     "output_type": "execute_result"
    }
   ],
   "source": [
    "from IPython.display import Image\n",
    "Image(\"loss_train_dev.png\")"
   ]
  },
  {
   "cell_type": "markdown",
   "id": "8ed324ae-a9f8-4c41-ae11-a0cd05474c13",
   "metadata": {},
   "source": [
    "## Test set accuracy evaluation"
   ]
  },
  {
   "cell_type": "code",
   "execution_count": 17,
   "id": "522e54ba-61a1-4733-af19-95431cca867f",
   "metadata": {},
   "outputs": [
    {
     "name": "stdout",
     "output_type": "stream",
     "text": [
      "Test accuracy:  0.9093816267283222\n"
     ]
    }
   ],
   "source": [
    "test_accuracy = []\n",
    "\n",
    "for idx in list(test_sentences.keys()):\n",
    "    test_accuracy.append(evaluation(model=lstm_model, input_dict=test_sentences, target_dict=test_gtags, key=idx))\n",
    "print(\"Test accuracy: \", sum(test_accuracy)/len(test_accuracy))"
   ]
  },
  {
   "cell_type": "markdown",
   "id": "ed7484bf-6387-4893-bf41-2f03263921b9",
   "metadata": {},
   "source": [
    "**I got test accuracy:  0.9093816267283222**"
   ]
  },
  {
   "cell_type": "markdown",
   "id": "23089095-e941-4d8f-a056-003cbe31c809",
   "metadata": {},
   "source": [
    "Checking the second sentence in a test set and printing a sentence, its golden tags and predicted tags:"
   ]
  },
  {
   "cell_type": "code",
   "execution_count": 20,
   "id": "b8b99062-d6e5-48e0-86eb-d0fd6bbe271d",
   "metadata": {},
   "outputs": [
    {
     "name": "stdout",
     "output_type": "stream",
     "text": [
      "Sentence:\n",
      " ['ich', 'habe', 'dort', '2007', 'meinen', 'owd', 'gemacht', 'und', 'weil', 'mir', 'das', 'tauchen', 'so', 'gefiel', 'hab', 'ich', 'dort', 'noch', 'im', 'in', 'dem', 'selben', 'jahr', 'den', 'aowd', 'und', 'den', 'deep', 'drangehängt', '</s>']\n",
      "Golden tags:\n",
      " ['PRON', 'AUX', 'ADV', 'NUM', 'DET', 'PROPN', 'VERB', 'CCONJ', 'SCONJ', 'PRON', 'DET', 'NOUN', 'ADV', 'VERB', 'AUX', 'PRON', 'ADV', 'ADV', '_', 'ADP', 'DET', 'DET', 'NOUN', 'DET', 'PROPN', 'CCONJ', 'DET', 'PROPN', 'VERB', 'PUNCT']\n",
      "Predicted tags:\n",
      " ['PRON', 'AUX', 'ADV', 'NUM', 'DET', 'NOUN', 'VERB', 'CCONJ', 'SCONJ', 'PRON', 'DET', 'NOUN', 'ADV', 'VERB', 'AUX', 'PRON', 'ADV', 'ADV', '_', 'ADP', 'DET', 'DET', 'NOUN', 'DET', 'PROPN', 'CCONJ', 'DET', 'PROPN', 'VERB', 'PUNCT']\n"
     ]
    }
   ],
   "source": [
    "print(\"Sentence:\\n\", vocabulary.lookup_tokens(test_sentences[1].tolist()))\n",
    "print(\"Golden tags:\\n\", tagset.lookup_tokens(test_gtags[1].tolist()))\n",
    "\n",
    "with torch.no_grad():\n",
    "    prediction = list(numpy.argmax(score) for score in lstm_model(test_sentences[1]))\n",
    "\n",
    "print(\"Predicted tags:\\n\", tagset.lookup_tokens(prediction))"
   ]
  },
  {
   "cell_type": "markdown",
   "id": "be227c3d-a6ba-439b-8d45-e7e3f3e3139a",
   "metadata": {},
   "source": [
    "There are a couple of errors, but the majority of tags are defined correctly."
   ]
  }
 ],
 "metadata": {
  "kernelspec": {
   "display_name": "Python 3 (ipykernel)",
   "language": "python",
   "name": "python3"
  },
  "language_info": {
   "codemirror_mode": {
    "name": "ipython",
    "version": 3
   },
   "file_extension": ".py",
   "mimetype": "text/x-python",
   "name": "python",
   "nbconvert_exporter": "python",
   "pygments_lexer": "ipython3",
   "version": "3.8.5"
  }
 },
 "nbformat": 4,
 "nbformat_minor": 5
}
